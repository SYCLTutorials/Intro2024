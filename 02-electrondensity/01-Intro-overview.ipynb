{
 "cells": [
  {
   "cell_type": "markdown",
   "id": "dffec9dd-aebb-4f22-82fd-f63bfb96cf4a",
   "metadata": {},
   "source": [
    "All rights reserved. Copyright Argonne National Laboratory UChicago LLC."
   ]
  },
  {
   "cell_type": "markdown",
   "id": "14d7cc5e-44f2-4dd9-8ac1-02ccb4657481",
   "metadata": {},
   "source": [
    "# 02 - Electron density\n",
    "\n",
    "Electron density is a pivotal function in computational chemistry, representing the probability distribution of electrons in a quantum system.\n",
    "\n",
    "\n",
    "Electron density is an 'observable' quantity, allowing its measurement through experimental techniques such as X-ray and neutron diffraction, unlike the wave function or molecular orbitals. Electron density is a real, three-dimensional function irrespective of the number of particles in the system. In contrast, the wave function extends across a multidimensional space, specifically 4N dimensions—three for spatial coordinates and one for spin—where N denotes the number of particles.\n",
    "\n",
    "In the framework of density functional theory (DFT), the foundational Hohenberg-Kohn theorems assert that the electron density uniquely determines all the ground state properties of a system, encapsulating all its quantum mechanical information. Consequently, other properties, such as the total energy, are functionals of the electron density. DFT has emerged as a cornerstone in the fields of computational chemistry and materials science due to its effectiveness and efficiency.\n",
    "\n",
    "Analyzing electron density provides insights into various chemical phenomena, including the nature of chemical bonds, reactivity patterns, and molecular properties such as electrostatic potential. This analysis is fundamental in predicting molecular behavior and facilitating the design of new molecules and materials.\n"
   ]
  },
  {
   "cell_type": "markdown",
   "id": "2915226d-3e68-442d-8cff-639e59b2ec1a",
   "metadata": {},
   "source": [
    "## Topological Analysis of the Density"
   ]
  },
  {
   "cell_type": "markdown",
   "id": "c479ed31-de51-4cc4-a106-fc4b273d1f79",
   "metadata": {},
   "source": [
    "### Scalar fields"
   ]
  },
  {
   "cell_type": "markdown",
   "id": "df4026b2-5b38-462d-b990-ef71f95c824b",
   "metadata": {},
   "source": [
    "<table>\n",
    "<tr>\n",
    "<th> Electron Density </th>\n",
    "<th> Electrostatic Potential </th>\n",
    "</tr>\n",
    "<tr>\n",
    "<td>\n",
    "\n",
    "<img width=\"255\" alt=\"\" src=\"images/dens-dens.png\">\n",
    "$$\\rho(\\vec{r}) = \\sum_i^N \\omega_i \\left| \\phi_i(\\vec{r}) \\right|^2$$\n",
    "\n",
    "</td>\n",
    "<td>\n",
    "<img width=\"255\" alt=\"\" src=\"images/dens-elect.png\" >\n",
    "$$ V(\\vec{r}) = \\sum_A^M{\\frac{Z_A}{|\\vec{r}-\\vec{A}|}-\\int{d\\vec{r'}}\\frac{\\rho(\\vec{r'})}{|\\vec{r}-\\vec{r'}|}}$$\n",
    "\n",
    "</td>\n",
    "</tr>\n",
    "\n",
    "</table>"
   ]
  },
  {
   "cell_type": "markdown",
   "id": "774e2251-d26a-451b-b6f4-e54ca353adaf",
   "metadata": {},
   "source": [
    "### Vector fields"
   ]
  },
  {
   "cell_type": "markdown",
   "id": "1eb622cf-7122-411b-b08e-926854b3d0b2",
   "metadata": {},
   "source": [
    "<table>\n",
    "<tr>\n",
    "<th> Density Gradient </th>\n",
    "<th> Orbital Density and gradients </th>\n",
    "</tr>\n",
    "<tr>\n",
    "<td>\n",
    "\n",
    "<img width=\"255\" alt=\"\" src=\"images/dens-lapl.png\" > \n",
    "\n",
    "$$ \\nabla \\rho(\\vec{r}) = \\hat{i}\\frac{\\partial \\rho(\\vec{r}) }{\\partial x} \n",
    "+\\hat{j}\\frac{\\partial \\rho(\\vec{r}) }{\\partial y}\n",
    "+\\hat{k}\\frac{\\partial \\rho(\\vec{r})}{\\partial z}$$\n",
    "\n",
    "</td>\n",
    "<td>\n",
    "<img width=\"255\" alt=\"\" src=\"images/dens-grad.png\" >\n",
    "$$ \\nabla \\phi(\\vec{r}) = \\hat{i}\\frac{\\partial \\phi(\\vec{r}) }{\\partial x} \n",
    "+\\hat{j}\\frac{\\partial \\phi(\\vec{r}) }{\\partial y}\n",
    "+\\hat{k}\\frac{\\partial \\phi(\\vec{r})}{\\partial z}$$\n",
    "\n",
    "</td>\n",
    "</tr>\n",
    "\n",
    "</table>"
   ]
  },
  {
   "cell_type": "markdown",
   "id": "537b31a3-4cac-4a6c-9260-d6cc6069da1a",
   "metadata": {},
   "source": [
    "## Mathematical grounding\n",
    "\n",
    "The electron density, when we are using localized basis set in molecular systems, can be  written in the following form as the sum of $N$ squared molecular orbitals { $\\phi_i$ } multiplied by a value called the occupation number ($\\omega_i$).\n",
    "\n",
    "$$\\rho(\\vec{r}) = \\sum_i^N \\omega_i \\left| \\phi_i(\\vec{r}) \\right|^2$$\n",
    "\n",
    "While the orbitals are  determined from a linear combination of $K$ primitive functions, Cartesian Gaussian in this case, centered on the different nuclei ($R_\\mu$) of the molecule. The coefficients ($c_{i\\mu}$) are obtained from computational chemistry methods.\n",
    "\n",
    "$$\\phi_i(\\vec{r}) = \\sum_\\mu^K c_{i \\mu} \\; g\\left(\\vec{r}; \\alpha_\\mu, \\vec{R_\\mu}, \\vec{l_\\mu}\\right)$$\n",
    "\n",
    "Finally, Gaussian functions are 3-dimensional functions, as we mentioned above, they are centered on atoms that form the molecular system ($\\vec{R} = (X, Y, Z)$) and whose exponents ($\\alpha$) have been  previously optimized. Each Gaussian function is characterized by its center, the exponent, and the product of polynomials  in each Cartesian coordinate.\n",
    "\n",
    "$$g\\left(\\vec{r}; \\alpha, R, \\vec{l}\\right) = (x - X)^{l_x}(y - Y)^{l_y}(z - Z)^{l_z} \\; e^{-\\alpha|\\vec{r}-\\vec{R}|^2}$$"
   ]
  },
  {
   "cell_type": "markdown",
   "id": "8448d32e-bbad-49f5-9b97-17199967761c",
   "metadata": {},
   "source": [
    "This module will present a way to evaluate electron density (a 3D scalar field) using SYCL.\n"
   ]
  },
  {
   "cell_type": "code",
   "execution_count": null,
   "id": "ce4696a8-fba0-4699-b676-e678fae4ef2a",
   "metadata": {},
   "outputs": [],
   "source": []
  }
 ],
 "metadata": {
  "kernelspec": {
   "display_name": "Python 3 (ipykernel)",
   "language": "python",
   "name": "python3"
  },
  "language_info": {
   "codemirror_mode": {
    "name": "ipython",
    "version": 3
   },
   "file_extension": ".py",
   "mimetype": "text/x-python",
   "name": "python",
   "nbconvert_exporter": "python",
   "pygments_lexer": "ipython3",
   "version": "3.9.19"
  }
 },
 "nbformat": 4,
 "nbformat_minor": 5
}
