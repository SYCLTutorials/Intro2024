{
 "cells": [
  {
   "cell_type": "markdown",
   "id": "ebfc1f81-5b09-4a91-834c-a1d3835ff4a1",
   "metadata": {},
   "source": [
    "# SYCL Buffer and Accesors\n",
    "\n",
    "The cell below writes the `compute.cpp` file containing a SYCL program that performs a parallel multiplication operation on a buffer using SYCL. The program demonstrates how to submit tasks to a queue, use accessors to manage memory, and execute kernels on the selected device."
   ]
  },
  {
   "cell_type": "code",
   "execution_count": null,
   "id": "3e3bf3dc-5d57-42be-93f5-f3039f01aae7",
   "metadata": {},
   "outputs": [],
   "source": [
    "%%writefile compute.cpp\n",
    "#include <sycl/sycl.hpp>\n",
    "#include <vector>\n",
    "#include <iostream>\n",
    "\n",
    "int main() {\n",
    "\n",
    "    sycl::queue myQueue;                         // The queue, Q, is the object that\n",
    "                                                 // submits the task to a device.\n",
    "    int const N = 10;\n",
    "    sycl::buffer<int> bufA{ sycl::range{N} };    // The buffer, A, is the memory used to\n",
    "                                                 // transfer data between host and device.\n",
    "    const int p = 4;\n",
    "    std::cout << \"Running on \"\n",
    "                  << myQueue.get_device().get_info<sycl::info::device::name>()\n",
    "                  << \"\\n\";\n",
    "\n",
    "    myQueue.submit([&](sycl::handler& cgh) {      // The handler, h, is the object that contains\n",
    "                                                  // the single_task function to be used.\n",
    "\n",
    "        sycl::accessor accA(bufA, cgh);          // The accessor, A_acc, is the object that\n",
    "                                                  // efficiently accesses the buffer elements.\n",
    "\n",
    "            cgh.parallel_for(N, [=](auto i) {\n",
    "                accA[i] = i * p; \n",
    "                });\n",
    "\n",
    "        });\n",
    "\n",
    "    sycl::host_accessor result(bufA);              // host_accessor is the object that allows\n",
    "                                                   // the host to access the buffer memory.\n",
    "\n",
    "    for (int i = 0; i < N ; i++)                   // Print output\n",
    "        std::cout << result[i] << \" \"; std::cout << \"\\n\";\n",
    "    return 0;\n",
    "\n",
    "}"
   ]
  },
  {
   "cell_type": "markdown",
   "id": "bb31453a-46df-45ce-b4e0-ed9545b2b49c",
   "metadata": {},
   "source": [
    "The next cell writes a shell script `run-sycl.sh`. The script sets up the SYCL environment, compiles the `compute.cpp` program using the DPC++ compiler (`icpx`), and runs the executable if the compilation is successful."
   ]
  },
  {
   "cell_type": "code",
   "execution_count": null,
   "id": "bd19a58d-ecde-4149-b954-5b9da37f6cc3",
   "metadata": {},
   "outputs": [],
   "source": [
    "%%writefile ./run-sycl.sh\n",
    "#!/bin/bash\n",
    "source /opt/intel/oneapi/setvars.sh > /dev/null 2>&1\n",
    "icpx -fsycl compute.cpp\n",
    "if [ $? -eq 0 ]; then ./a.out; fi"
   ]
  },
  {
   "cell_type": "markdown",
   "id": "97c385dd-3195-4cfd-8771-4d37383474b4",
   "metadata": {},
   "source": [
    "The cell will make the shell script executable and then runs it, which compiles and executes the SYCL program."
   ]
  },
  {
   "cell_type": "code",
   "execution_count": null,
   "id": "908855ac-0fd7-479d-942a-2f1f7b3f4cb2",
   "metadata": {},
   "outputs": [],
   "source": [
    "!chmod u+x ./run-sycl.sh &&./run-sycl.sh"
   ]
  },
  {
   "cell_type": "markdown",
   "id": "bdf1f1e6-61e3-47be-a631-122696aaef93",
   "metadata": {},
   "source": [
    "## Example 2:\n",
    "\n",
    "This next example again creates a `compute.cpp` file, which demonstrates using SYCL to perform parallel computation on a GPU. The program creates a vector, uses a buffer to manage memory between the host and the device, and performs a simple multiplication operation using `parallel_for`. It highlights how to set up device-specific execution, manage buffers, and synchronize tasks with the host."
   ]
  },
  {
   "cell_type": "code",
   "execution_count": null,
   "id": "62204293-4120-4488-a3ac-cf3a288629bc",
   "metadata": {},
   "outputs": [],
   "source": [
    "%%writefile compute.cpp\n",
    "#include <sycl/sycl.hpp>\n",
    "#include <vector>\n",
    "#include <iostream>\n",
    "\n",
    "int main(int argc, char **argv) {\n",
    "    \n",
    "    const int N = 10;\n",
    "    std::vector<int> vectorA(N);  // Vector A filled with 1s\n",
    "    const int p = 4;\n",
    "    \n",
    "    {\n",
    "        auto myQueue = sycl::queue{sycl::gpu_selector_v};\n",
    "        std::cout << \"Running on \"\n",
    "                  << myQueue.get_device().get_info<sycl::info::device::name>()\n",
    "                  << \"\\n\";\n",
    "\n",
    "    \n",
    "        auto bufA = sycl::buffer<int>{ vectorA.data(), vectorA.size()};\n",
    "        //sycl::buffer<int> bufA {vectorA.data(),vectorA.size() };\n",
    "        \n",
    "        myQueue.submit([&](sycl::handler &cgh) {\n",
    "        \n",
    "            sycl::accessor accA { bufA, cgh, sycl::write_only, sycl::no_init};\n",
    "            \n",
    "            cgh.parallel_for(N, [=](auto i) {\n",
    "                accA[i] = i * p; \n",
    "                });\n",
    "        \n",
    "            });\n",
    "        myQueue.wait();\n",
    "        \n",
    "    }\n",
    "\n",
    "    for (int i = 0; i < N; i++)  // Print output\n",
    "        std::cout << vectorA[i] << \" \"; std::cout << \"\\n\";\n",
    "\n",
    "    return 0;\n",
    "}\n"
   ]
  },
  {
   "cell_type": "markdown",
   "id": "4cccc6fa-7082-4137-91c4-7192917805ad",
   "metadata": {},
   "source": [
    "Below we again write a shell script named `run-sycl.sh`, which sets up the environment, compiles the SYCL program using the DPC++ compiler (`icpx`), and runs the compiled executable if the compilation succeeds."
   ]
  },
  {
   "cell_type": "code",
   "execution_count": null,
   "id": "cf5d7cc4-d3a8-485e-8e5a-06a945064362",
   "metadata": {},
   "outputs": [],
   "source": [
    "%%writefile ./run-sycl.sh\n",
    "#!/bin/bash\n",
    "source /opt/intel/oneapi/setvars.sh > /dev/null 2>&1\n",
    "icpx -fsycl compute.cpp\n",
    "if [ $? -eq 0 ]; then ./a.out; fi"
   ]
  },
  {
   "cell_type": "markdown",
   "id": "6eb774f8-a274-47ce-a95c-ba0466dba6bb",
   "metadata": {},
   "source": [
    "Lastly, the cell below makes the shell script executable and runs it, which will compile and execute the SYCL program on the selected device"
   ]
  },
  {
   "cell_type": "code",
   "execution_count": null,
   "id": "c397d703-185e-4d20-a732-9472298e9344",
   "metadata": {},
   "outputs": [],
   "source": [
    "!chmod u+x ./run-sycl.sh &&./run-sycl.sh"
   ]
  }
 ],
 "metadata": {
  "kernelspec": {
   "display_name": "Python 3 (ipykernel)",
   "language": "python",
   "name": "python3"
  },
  "language_info": {
   "codemirror_mode": {
    "name": "ipython",
    "version": 3
   },
   "file_extension": ".py",
   "mimetype": "text/x-python",
   "name": "python",
   "nbconvert_exporter": "python",
   "pygments_lexer": "ipython3",
   "version": "3.11.5"
  }
 },
 "nbformat": 4,
 "nbformat_minor": 5
}
