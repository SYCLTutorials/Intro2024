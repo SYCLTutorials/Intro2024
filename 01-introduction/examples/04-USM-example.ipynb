{
 "cells": [
  {
   "cell_type": "markdown",
   "id": "e4881ae6-4ab8-4798-b6c7-30154898b3b8",
   "metadata": {},
   "source": [
    "# Unified Share Memory Example\n",
    "\n",
    "The cell below creates a program that demonstrates how to perform a simple computation on a GPU using unified shared memomry (USM) in SYCL. It initializes an array with values, performs an element-wise multiplication on the GPU, and prints the result. This code highlights the use of `malloc_shared` to allocate memory that both the host and device can access, showcasing how data can be managed efficiently between the CPU and GPU."
   ]
  },
  {
   "cell_type": "code",
   "execution_count": null,
   "id": "0",
   "metadata": {},
   "outputs": [],
   "source": [
    "%%writefile compute.cpp\n",
    "#include <sycl/sycl.hpp>\n",
    "#include <iostream>\n",
    "\n",
    "int main(){\n",
    "    //# select device for offload\n",
    "    sycl::queue q(sycl::gpu_selector_v);\n",
    "    std::cout << \"Offload Device: \" << q.get_device().get_info<sycl::info::device::name>() << \"\\n\";\n",
    "\n",
    "    //# initialize some data array\n",
    "    const int N = 16;\n",
    "    auto data = sycl::malloc_shared<float>(N, q);\n",
    "    for(int i=0;i<N;i++) data[i] = i;\n",
    "\n",
    "    //# computation on GPU\n",
    "    q.single_task([=](){\n",
    "        for(int i=0;i<N;i++) data[i] = data[i] * 5;\n",
    "    }).wait();\n",
    "\n",
    "    //# print output\n",
    "    for(int i=0;i<N;i++) std::cout << data[i] << \"\\n\"; \n",
    "}"
   ]
  },
  {
   "cell_type": "markdown",
   "id": "c71133b9-14b0-44a1-9d61-119697934bfa",
   "metadata": {},
   "source": [
    "The cell below creates a shell script that sets the SYCL environment, compiles the SYCL code with the DPC++ compiler, and runs the executable if the compilation is successful."
   ]
  },
  {
   "cell_type": "code",
   "execution_count": null,
   "id": "fcfcbb24-ea6e-43db-9dc0-e8b4f61482af",
   "metadata": {},
   "outputs": [],
   "source": [
    "%%writefile ./run-dot.sh\n",
    "#!/bin/bash \n",
    "source /opt/intel/oneapi/setvars.sh > /dev/null 2>&1\n",
    "icpx -fsycl compute.cpp\n",
    "if [ $? -eq 0 ]; then ./a.out; fi"
   ]
  },
  {
   "cell_type": "markdown",
   "id": "3b163887-bb73-4186-a7b5-8cf9139afa7b",
   "metadata": {},
   "source": [
    "The final cell executes a command that makes the shell script executable and runs it, executing the SYCL program that performs computations on the GPU and outputs the results."
   ]
  },
  {
   "cell_type": "code",
   "execution_count": null,
   "id": "1",
   "metadata": {},
   "outputs": [],
   "source": [
    "!chmod u+x ./run-dot.sh &&./run-dot.sh"
   ]
  }
 ],
 "metadata": {
  "kernelspec": {
   "display_name": "Python 3 (ipykernel)",
   "language": "python",
   "name": "python3"
  },
  "language_info": {
   "codemirror_mode": {
    "name": "ipython",
    "version": 3
   },
   "file_extension": ".py",
   "mimetype": "text/x-python",
   "name": "python",
   "nbconvert_exporter": "python",
   "pygments_lexer": "ipython3",
   "version": "3.11.5"
  }
 },
 "nbformat": 4,
 "nbformat_minor": 5
}
