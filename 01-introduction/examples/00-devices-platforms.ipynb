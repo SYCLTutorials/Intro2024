{
 "cells": [
  {
   "cell_type": "markdown",
   "id": "5e21158e-9144-4e11-9f18-7fb26264c521",
   "metadata": {},
   "source": [
    "# SYCL Platforms & Devices\n",
    "\n",
    "This script creates a `compute.cpp` file, which lists all available SYCL platforms and their associated devices. It’s a useful utility for exploring the compute resources on your system and understanding what devices are available for running SYCL code. The code checks each device to determine if it is a GPU, helping you identify the best target for your SYCL programs."
   ]
  },
  {
   "cell_type": "code",
   "execution_count": null,
   "id": "b9b8f802-dfe0-44c7-8612-fb2cd0e654a9",
   "metadata": {},
   "outputs": [],
   "source": [
    "%%writefile compute.cpp\n",
    "#include <sycl/sycl.hpp>\n",
    "#include <vector>\n",
    "\n",
    "// from github.com/TApplencourt\n",
    "\n",
    "int main() {\n",
    "\n",
    "  //  _              _                      _\n",
    "  // |_) |  _. _|_ _|_ _  ._ ._ _    ()    | \\  _     o  _  _\n",
    "  // |   | (_|  |_  | (_) |  | | |   (_X   |_/ (/_ \\/ | (_ (/_\n",
    "  //\n",
    "  std::cout << \"List Platforms and Devices\" << std::endl;\n",
    "  std::vector<sycl::platform> platforms = sycl::platform::get_platforms();\n",
    "  for (const auto &plat : platforms) {\n",
    "    // get_info is a template. So we pass the type as an `arguments`.\n",
    "    std::cout << \"Platform: \"\n",
    "              << plat.get_info<sycl::info::platform::name>() << \" \"\n",
    "              << plat.get_info<sycl::info::platform::vendor>() << \" \"\n",
    "              << plat.get_info<sycl::info::platform::version>() << std::endl;\n",
    "    // Trivia: how can we loop over argument?\n",
    "\n",
    "    std::vector<sycl::device> devices = plat.get_devices();\n",
    "    for (const auto &dev : devices) {\n",
    "      std::cout << \"-- Device: \"\n",
    "                << dev.get_info<sycl::info::device::name>() << \" \"\n",
    "                << (dev.is_gpu() ? \"is a gpu\" : \" is not a gpu\") << std::endl;\n",
    "    }\n",
    "  }\n",
    "}"
   ]
  },
  {
   "cell_type": "markdown",
   "id": "1f636916-79dd-481b-bcb4-c5e33c57ba03",
   "metadata": {},
   "source": [
    "The next cell writes a shell script named `run-sycl.sh`. It sets up the environment for Intel oneAPI, compiles the SYCL code using `icpx`, and runs the executable if the compilation is successful."
   ]
  },
  {
   "cell_type": "code",
   "execution_count": null,
   "id": "3b6b07da-7c3a-4826-b4e9-7ab163eecc9a",
   "metadata": {},
   "outputs": [],
   "source": [
    "%%writefile ./run-sycl.sh\n",
    "#!/bin/bash \n",
    "source /opt/intel/oneapi/setvars.sh > /dev/null 2>&1\n",
    "icpx -fsycl compute.cpp\n",
    "if [ $? -eq 0 ]; then ./a.out; fi"
   ]
  },
  {
   "cell_type": "markdown",
   "id": "a6e83f46-317d-4e85-a0c4-ceeca2668486",
   "metadata": {},
   "source": [
    "The last cell makes the shell script executable and runs it, compiling and executing the SYCL program to display the available platforms and devices."
   ]
  },
  {
   "cell_type": "code",
   "execution_count": null,
   "id": "2cf3d4ff-d4f7-4ea3-b009-35cafb9279b3",
   "metadata": {},
   "outputs": [],
   "source": [
    "!chmod u+x ./run-sycl.sh &&./run-sycl.sh"
   ]
  }
 ],
 "metadata": {
  "kernelspec": {
   "display_name": "Python 3 (ipykernel)",
   "language": "python",
   "name": "python3"
  },
  "language_info": {
   "codemirror_mode": {
    "name": "ipython",
    "version": 3
   },
   "file_extension": ".py",
   "mimetype": "text/x-python",
   "name": "python",
   "nbconvert_exporter": "python",
   "pygments_lexer": "ipython3",
   "version": "3.11.5"
  }
 },
 "nbformat": 4,
 "nbformat_minor": 5
}
