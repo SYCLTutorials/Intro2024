{
 "cells": [
  {
   "cell_type": "markdown",
   "id": "5e21158e-9144-4e11-9f18-7fb26264c521",
   "metadata": {},
   "source": [
    "# Vector Addition in SYCL Using USM"
   ]
  },
  {
   "cell_type": "markdown",
   "id": "b9665e22-00a5-493f-96ba-f53cca70bf5a",
   "metadata": {},
   "source": [
    "The cell below writes the `compute.cpp` file containing a basic SYCL program that performs vector addition on a GPU using Unified Shared Memory (USM). The code initializes vectors, performs parallel computation, and prints the results."
   ]
  },
  {
   "cell_type": "code",
   "execution_count": null,
   "id": "62204293-4120-4488-a3ac-cf3a288629bc",
   "metadata": {},
   "outputs": [],
   "source": [
    "%%writefile compute.cpp\n",
    "#include <sycl/sycl.hpp>\n",
    "#include <vector>\n",
    "\n",
    "int main(int argc, char **argv) {\n",
    "    const int N = 2;\n",
    "    \n",
    "    auto myQueue = sycl::queue{sycl::gpu_selector_v};\n",
    "    std::cout << \"Running on \"\n",
    "              << myQueue.get_device().get_info<sycl::info::device::name>()\n",
    "              << \"\\n\";\n",
    "\n",
    "    int *dataA = sycl::malloc_shared<int>(N, myQueue);\n",
    "    int *dataB = sycl::malloc_shared<int>(N, myQueue);\n",
    "    int *dataC = sycl::malloc_shared<int>(N, myQueue);\n",
    "\n",
    "    // STEP 3 : Asign values to vectors\n",
    "    for (int i = 0; i < N; i++) {\n",
    "        dataA[i] = 1;\n",
    "        dataB[i] = 2;\n",
    "        dataC[i] = 0;\n",
    "    }\n",
    "    \n",
    "    // STEP 4 : Proceed with the calculation\n",
    "    myQueue.parallel_for(sycl::range<1>(N), [=](sycl::id<1> i) {\n",
    "      dataC[i] = dataA[i] + dataB[i];\n",
    "    }).wait();\n",
    "\n",
    "    // Print out the result of vector add\n",
    "    int indices[]{0, 1, 2, (static_cast<int>(N) - 1)};\n",
    "    constexpr size_t indices_size = sizeof(indices) / sizeof(int);\n",
    "    for (int i = 0; i < indices_size; i++) {\n",
    "        int j = indices[i];\n",
    "        if (i == indices_size - 1) std::cout << \"...\\n\";\n",
    "            std::cout << \"[\" << j << \"]: \" << dataA[j] << \" + \" << dataB[j] << \" = \"\n",
    "                      << dataC[j] << \"\\n\";\n",
    "        }\n",
    "\n",
    "    sycl::free(dataA, myQueue);\n",
    "    sycl::free(dataB, myQueue);\n",
    "    sycl::free(dataC, myQueue);\n",
    "\n",
    "    return 0;\n",
    "}\n"
   ]
  },
  {
   "cell_type": "markdown",
   "id": "c0e34884-79db-492b-991c-679ddde671a3",
   "metadata": {},
   "source": [
    "This next cell writes a shell script named `run-sycl.sh`. The script sets up the SYCL environment, compiles `compute.cpp` using the DPC++ compiler (`icpx`), and runs the executable if the compilation is successful."
   ]
  },
  {
   "cell_type": "code",
   "execution_count": null,
   "id": "cf5d7cc4-d3a8-485e-8e5a-06a945064362",
   "metadata": {},
   "outputs": [],
   "source": [
    "%%writefile ./run-sycl.sh\n",
    "\n",
    "#!/bin/bash -x\n",
    "source /opt/intel/oneapi/setvars.sh > /dev/null 2>&1\n",
    "icpx -fsycl compute.cpp\n",
    "if [ $? -eq 0 ]; then ./a.out; fi"
   ]
  },
  {
   "cell_type": "markdown",
   "id": "620b226d-9e04-48eb-b8b4-06171c39f01b",
   "metadata": {},
   "source": [
    "The last cell makes the shell script executable and then runs it, which compiles and executes the SYCL program."
   ]
  },
  {
   "cell_type": "code",
   "execution_count": null,
   "id": "c397d703-185e-4d20-a732-9472298e9344",
   "metadata": {},
   "outputs": [],
   "source": [
    "!chmod u+x ./run-sycl.sh &&./run-sycl.sh"
   ]
  }
 ],
 "metadata": {
  "kernelspec": {
   "display_name": "Python 3 (ipykernel)",
   "language": "python",
   "name": "python3"
  },
  "language_info": {
   "codemirror_mode": {
    "name": "ipython",
    "version": 3
   },
   "file_extension": ".py",
   "mimetype": "text/x-python",
   "name": "python",
   "nbconvert_exporter": "python",
   "pygments_lexer": "ipython3",
   "version": "3.11.5"
  }
 },
 "nbformat": 4,
 "nbformat_minor": 5
}
