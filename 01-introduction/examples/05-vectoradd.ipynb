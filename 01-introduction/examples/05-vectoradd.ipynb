{
 "cells": [
  {
   "cell_type": "markdown",
   "id": "5e21158e-9144-4e11-9f18-7fb26264c521",
   "metadata": {},
   "source": [
    "# Vector Addition in SYCL Using Buffers/Accessors\n",
    "\n",
    "In the example in the cell below, the code performs vector addition using the buffer/accessor model. Vectors `A` and `B` are added element-wise, and the results are stored in vector `C`. Unlike the Unified Shared Memory (USM) model, where memory is directly shared between the host and device, the buffer/accessor model explicitly handles data movement and synchronization:\n",
    "\n",
    "* Buffers (`bufA`, `bufB`, `bufC`) are created to manage data between host and device.\n",
    "* Accessors (`accA`, `accB`, `accC`) define how the kernel accesses the data within those buffers, ensuring synchronization and correct data handling.\n",
    "* SYCL automatically manages the transfer of data between the host and the device based on the access mode specified by the accessors.\n",
    "\n",
    "This approach is beneficial when you want SYCL to handle the complexities of data synchronization, whereas USM would require you to manually manage memory sharing and synchronization."
   ]
  },
  {
   "cell_type": "code",
   "execution_count": null,
   "id": "62204293-4120-4488-a3ac-cf3a288629bc",
   "metadata": {},
   "outputs": [],
   "source": [
    "%%writefile compute.cpp\n",
    "#include <sycl/sycl.hpp>\n",
    "#include <vector>\n",
    "\n",
    "int main(int argc, char **argv) {\n",
    "  const int N = 2;\n",
    "\n",
    "  std::vector<int> vectorA(N, 1);  // Vector A filled with 1s\n",
    "  std::vector<int> vectorB(N, 2);  // Vector B filled with 2s\n",
    "  std::vector<int> vectorC;        // Vector C initialized with no specific values\n",
    "  vectorC.resize(vectorA.size());\n",
    "\n",
    "  auto myQueue = sycl::queue{sycl::gpu_selector_v};\n",
    "  std::cout << \"Running on \"\n",
    "              << myQueue.get_device().get_info<sycl::info::device::name>()\n",
    "              << \"\\n\";\n",
    "\n",
    "  {\n",
    "      auto bufA = sycl::buffer{vectorA.data(), sycl::range{N}};\n",
    "      auto bufB = sycl::buffer{vectorB.data(), sycl::range{N}};\n",
    "      auto bufC = sycl::buffer{vectorC.data(), sycl::range{N}};\n",
    "    \n",
    "      myQueue.submit([&](sycl::handler &cgh) {\n",
    "\n",
    "      sycl::accessor accA { bufA, cgh, sycl::read_only};\n",
    "      sycl::accessor accB { bufB, cgh, sycl::read_only };\n",
    "      sycl::accessor accC { bufC, cgh, sycl::write_only, sycl::no_init };\n",
    "\n",
    "      cgh.parallel_for(N, [=](auto i) { accC[i] = accA[i] + accB[i]; });\n",
    "\n",
    "    });\n",
    "  }\n",
    "\n",
    "  // Print out the result of vector add\n",
    "  int indices[]{0, 1, 2, (static_cast<int>(vectorA.size()) - 1)};\n",
    "  constexpr size_t indices_size = sizeof(indices) / sizeof(int);\n",
    "  for (int i = 0; i < indices_size; i++) {\n",
    "    int j = indices[i];\n",
    "    if (i == indices_size - 1) std::cout << \"...\\n\";\n",
    "    std::cout << \"[\" << j << \"]: \" << vectorA[j] << \" + \" << vectorB[j] << \" = \"\n",
    "              << vectorC[j] << \"\\n\";\n",
    "\n",
    "  }\n",
    "\n",
    "  return 0;\n",
    "}\n"
   ]
  },
  {
   "cell_type": "markdown",
   "id": "e6fb248c-063b-4e87-acc6-09a1e7bcb796",
   "metadata": {},
   "source": [
    "The cell below creates a script that sets up the environment, compiles the SYCL program using Intel’s DPC++ compiler, and runs the executable if the compilation is successful."
   ]
  },
  {
   "cell_type": "code",
   "execution_count": null,
   "id": "cf5d7cc4-d3a8-485e-8e5a-06a945064362",
   "metadata": {},
   "outputs": [],
   "source": [
    "%%writefile ./run-sycl.sh\n",
    "\n",
    "#!/bin/bash -x\n",
    "source /opt/intel/oneapi/setvars.sh > /dev/null 2>&1\n",
    "icpx -fsycl compute.cpp\n",
    "if [ $? -eq 0 ]; then ./a.out; fi"
   ]
  },
  {
   "cell_type": "markdown",
   "id": "e16fdbea-5d45-488b-bffa-ad459dc1d0fd",
   "metadata": {},
   "source": [
    "This command makes the script executable and then runs it, executing the compiled SYCL program to perform the vector addition."
   ]
  },
  {
   "cell_type": "code",
   "execution_count": null,
   "id": "c397d703-185e-4d20-a732-9472298e9344",
   "metadata": {},
   "outputs": [],
   "source": [
    "!chmod u+x ./run-sycl.sh &&./run-sycl.sh"
   ]
  }
 ],
 "metadata": {
  "kernelspec": {
   "display_name": "Python 3 (ipykernel)",
   "language": "python",
   "name": "python3"
  },
  "language_info": {
   "codemirror_mode": {
    "name": "ipython",
    "version": 3
   },
   "file_extension": ".py",
   "mimetype": "text/x-python",
   "name": "python",
   "nbconvert_exporter": "python",
   "pygments_lexer": "ipython3",
   "version": "3.11.5"
  }
 },
 "nbformat": 4,
 "nbformat_minor": 5
}
