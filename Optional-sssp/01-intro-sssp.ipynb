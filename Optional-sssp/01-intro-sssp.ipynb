{
 "cells": [
  {
   "cell_type": "markdown",
   "id": "f6d7d3b1-a7a3-4f9f-8888-200d1ba3ff3c",
   "metadata": {},
   "source": [
    "# Parallel single-source shortest path algorithm \n",
    "\n",
    "<p align=\"center\">\n",
    "  <img src=\"https://imgs.xkcd.com/comics/space_typography.png\" alt=\"Space Typography\">\n",
    "</p>\n",
    "\n",
    "_Comic by Randall Munroe, [XKCD](https://xkcd.com/590/)_\n",
    "\n",
    "In the spirit of exploring complex ideas with clarity, as demonstrated in the comic above, we turn our attention to a significant topic in algorithmic graph theory: the shortest path problem. This challenge extends to the single-source shortest paths (SSSP) problem, which involves finding the shortest paths from a given source vertex $s$ to all other vertices in the graph.\n",
    "\n",
    "Traditionally, this problem is addressed using classical sequential algorithms like Dijkstra's algorithm and the Bellman-Ford algorithm, as discussed in both Jeff Erickson's book on algorithms[^1] and *Introduction to Algorithms, 4th Edition* by Cormen, Leiserson, Rivest, and Stein[^2]. However, leveraging insights from the paper on the Delta-stepping algorithm by Meyer and Sanders[^3], I introduce a parallel approach designed to solve the SSSP problem. The Delta-stepping algorithm offers a sophisticated method to improve efficiency and performance in solving this fundamental problem. This is my attempt at studying such a problem.\n",
    "\n",
    "[^1]: Jeff Erickson, *Algorithms*, available at [http://jeffe.cs.illinois.edu/teaching/algorithms/](http://jeffe.cs.illinois.edu/teaching/algorithms/).\n",
    "[^2]: T. H. Cormen, C. E. Leiserson, R. L. Rivest, and C. Stein, *Introduction to Algorithms, 4th Edition*, MIT Press, 2022.\n",
    "[^3]: U. Meyer and P. Sanders, \"Δ-stepping: a parallel single source shortest path algorithm,\" in *European Symposium on Algorithms*, Springer, Berlin, Heidelberg, 2000, pp. 393-404.\n",
    "\n",
    "## Delta stepping algorithm \n",
    "\n",
    "\n",
    "The delta stepping algorithm is designed to iteratively adjust vertex distances in a graph until they reach their final values. It does this by using a series of corrections throughout its steps. \n",
    "\n",
    "In this algorithm, vertices are placed into an array of buckets, with each bucket representing a specific range of distances determined by a parameter $\\Delta$.  During each phase, the algorithm process vertices from the first non-empty bucket, relaxing their outgoing edges that have weights up to $\\Delta$. Edges with weight greater than $\\Delta$ are only relaxed later, after ensuring that the starting vertices have finished. The value $\\Delta$, referred to as the step width or bucket width, is a positive number.  \n",
    "\n",
    "To achieve parallelism, the algorithm removes all vertices from the first non-empty bucket simulatneously and relaxes their light edges. If a vertex $v$ is removed but does not yet have a final distance, it can be added back to the bucket, and its light edges will be relaxed again. Heavy edges are relaxed once the bucket is fully processed and becomes empty. The algorithm then proceeds to the next non-empty bucket and continues the process. \n",
    "\n",
    "\n",
    "The maximum shortest path weight for a source vertex $s$ is define as \n",
    "\n",
    "$$L(s) = \\\\max\\\\{dist(s, v) : dist(s, v) < \\infty\\\\}$$\n",
    "\n",
    "where, $dist(v)$ represents the distance between the source vertex $s$ and another vertex $v$, The size of a path if defined by the number of edges traversed in that path. Light edges are those with weights up to the value $\\Delta$, while the heavy edges have weights greater than $\\Delta$.\n",
    "\n",
    "Delta Stepping:\n",
    "\n",
    "- The Delta stepping algorithm is used for the Single-Source Shortest Paths (SSSP) problem, like Dijkstra's algorithm, but it is designed to work efficiently in parallel and on distributed systems.\n",
    "- It organizes vertices into buckets based on their tentative distance values, similar to a more granular and distributed version of Dijkstra's priority queue.\n",
    "- The algorithm processes vertices in small $\\Delta$ which is a parameter that controls the trade-off between parallelism and work efficiency. Each bucket can be processed in parallel.\n",
    "- Delta stepping relaxes edges within a bucket before moving to the next one, akin to Dijkstra’s systematic relaxation of edges, but it allows for parallel relaxation of edges within the same bucket.\n",
    "\n",
    "\n",
    "<p align=\"center\">\n",
    "  <img src=\"images/delta.jpg\" alt=\"SSSP\" width=\"550\" height=\"300\">\n",
    "</p>\n",
    "\n",
    "\n",
    "\n",
    "\n",
    "## TODO\n",
    "\n",
    "- Proofread material and verify the accuracy of the algorithm pseudocode.\n",
    "- Replace hard-coded graphs with `CLI` functionality and the ability to read from files.\n",
    "- Implement Google Test to ensure correctness and identify bugs.\n",
    "- Add visualizations using the [Manim](https://3b1b.github.io/manim/index.html#) engine.\n",
    "- Working on a CUDA implementation coming soon!\n",
    "\n"
   ]
  },
  {
   "cell_type": "code",
   "execution_count": null,
   "id": "cb548b0a-6f19-4e1d-8266-e48088780f90",
   "metadata": {},
   "outputs": [],
   "source": []
  }
 ],
 "metadata": {
  "kernelspec": {
   "display_name": "Python 3 (ipykernel)",
   "language": "python",
   "name": "python3"
  },
  "language_info": {
   "codemirror_mode": {
    "name": "ipython",
    "version": 3
   },
   "file_extension": ".py",
   "mimetype": "text/x-python",
   "name": "python",
   "nbconvert_exporter": "python",
   "pygments_lexer": "ipython3",
   "version": "3.9.19"
  }
 },
 "nbformat": 4,
 "nbformat_minor": 5
}
